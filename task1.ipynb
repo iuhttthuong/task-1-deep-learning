{
 "cells": [
  {
   "cell_type": "code",
   "execution_count": 1,
   "metadata": {},
   "outputs": [],
   "source": [
    "import pandas as pd\n",
    "import numpy as np"
   ]
  },
  {
   "cell_type": "code",
   "execution_count": 9,
   "metadata": {},
   "outputs": [
    {
     "data": {
      "text/html": [
       "<div>\n",
       "<style scoped>\n",
       "    .dataframe tbody tr th:only-of-type {\n",
       "        vertical-align: middle;\n",
       "    }\n",
       "\n",
       "    .dataframe tbody tr th {\n",
       "        vertical-align: top;\n",
       "    }\n",
       "\n",
       "    .dataframe thead th {\n",
       "        text-align: right;\n",
       "    }\n",
       "</style>\n",
       "<table border=\"1\" class=\"dataframe\">\n",
       "  <thead>\n",
       "    <tr style=\"text-align: right;\">\n",
       "      <th></th>\n",
       "      <th>GioiTinh</th>\n",
       "      <th>IDLopHoc</th>\n",
       "      <th>IDSinhVien</th>\n",
       "      <th>MaMonHoc</th>\n",
       "      <th>TenDot</th>\n",
       "      <th>DiemTongKet</th>\n",
       "      <th>Thuộc KCNTT</th>\n",
       "    </tr>\n",
       "  </thead>\n",
       "  <tbody>\n",
       "    <tr>\n",
       "      <th>0</th>\n",
       "      <td>1</td>\n",
       "      <td>25933</td>\n",
       "      <td>1677250</td>\n",
       "      <td>3197</td>\n",
       "      <td>HK1 (2019-2020)</td>\n",
       "      <td>8.0</td>\n",
       "      <td>0</td>\n",
       "    </tr>\n",
       "    <tr>\n",
       "      <th>1</th>\n",
       "      <td>1</td>\n",
       "      <td>25933</td>\n",
       "      <td>1677250</td>\n",
       "      <td>3203</td>\n",
       "      <td>HK2 (2019-2020)</td>\n",
       "      <td>7.6</td>\n",
       "      <td>0</td>\n",
       "    </tr>\n",
       "    <tr>\n",
       "      <th>2</th>\n",
       "      <td>1</td>\n",
       "      <td>25933</td>\n",
       "      <td>1677250</td>\n",
       "      <td>3395</td>\n",
       "      <td>HK1 (2020-2021)</td>\n",
       "      <td>8.9</td>\n",
       "      <td>0</td>\n",
       "    </tr>\n",
       "    <tr>\n",
       "      <th>3</th>\n",
       "      <td>1</td>\n",
       "      <td>25933</td>\n",
       "      <td>1677250</td>\n",
       "      <td>1076</td>\n",
       "      <td>HK1 (2020-2021)</td>\n",
       "      <td>7.9</td>\n",
       "      <td>1</td>\n",
       "    </tr>\n",
       "    <tr>\n",
       "      <th>4</th>\n",
       "      <td>1</td>\n",
       "      <td>25933</td>\n",
       "      <td>1677250</td>\n",
       "      <td>901</td>\n",
       "      <td>HK1 (2020-2021)</td>\n",
       "      <td>9.5</td>\n",
       "      <td>1</td>\n",
       "    </tr>\n",
       "  </tbody>\n",
       "</table>\n",
       "</div>"
      ],
      "text/plain": [
       "   GioiTinh  IDLopHoc  IDSinhVien  MaMonHoc           TenDot  DiemTongKet  \\\n",
       "0         1     25933     1677250      3197  HK1 (2019-2020)          8.0   \n",
       "1         1     25933     1677250      3203  HK2 (2019-2020)          7.6   \n",
       "2         1     25933     1677250      3395  HK1 (2020-2021)          8.9   \n",
       "3         1     25933     1677250      1076  HK1 (2020-2021)          7.9   \n",
       "4         1     25933     1677250       901  HK1 (2020-2021)          9.5   \n",
       "\n",
       "   Thuộc KCNTT  \n",
       "0            0  \n",
       "1            0  \n",
       "2            0  \n",
       "3            1  \n",
       "4            1  "
      ]
     },
     "execution_count": 9,
     "metadata": {},
     "output_type": "execute_result"
    }
   ],
   "source": [
    "data = pd.read_excel('THONGKESVISHOCTUCHON.xlsx', sheet_name='Dulieu0205' )\n",
    "data.head()"
   ]
  },
  {
   "cell_type": "code",
   "execution_count": 11,
   "metadata": {},
   "outputs": [
    {
     "name": "stdout",
     "output_type": "stream",
     "text": [
      "<class 'pandas.core.frame.DataFrame'>\n",
      "RangeIndex: 4670 entries, 0 to 4669\n",
      "Data columns (total 7 columns):\n",
      " #   Column       Non-Null Count  Dtype  \n",
      "---  ------       --------------  -----  \n",
      " 0   GioiTinh     4670 non-null   int64  \n",
      " 1   IDLopHoc     4670 non-null   int64  \n",
      " 2   IDSinhVien   4670 non-null   int64  \n",
      " 3   MaMonHoc     4670 non-null   int64  \n",
      " 4   TenDot       4670 non-null   object \n",
      " 5   DiemTongKet  4015 non-null   float64\n",
      " 6   Thuộc KCNTT  4670 non-null   int64  \n",
      "dtypes: float64(1), int64(5), object(1)\n",
      "memory usage: 255.5+ KB\n"
     ]
    }
   ],
   "source": [
    "data.info()"
   ]
  },
  {
   "cell_type": "code",
   "execution_count": 12,
   "metadata": {},
   "outputs": [
    {
     "data": {
      "text/plain": [
       "GioiTinh         0\n",
       "IDLopHoc         0\n",
       "IDSinhVien       0\n",
       "MaMonHoc         0\n",
       "TenDot           0\n",
       "DiemTongKet    655\n",
       "Thuộc KCNTT      0\n",
       "dtype: int64"
      ]
     },
     "execution_count": 12,
     "metadata": {},
     "output_type": "execute_result"
    }
   ],
   "source": [
    "data.isna().sum()"
   ]
  },
  {
   "cell_type": "code",
   "execution_count": 21,
   "metadata": {},
   "outputs": [
    {
     "data": {
      "text/plain": [
       "<bound method NDFrame.fillna of       IDSinhVien  MaMonHoc           TenDot\n",
       "0      1677250.0    3197.0  HK1 (2019-2020)\n",
       "1      1677250.0    3203.0  HK2 (2019-2020)\n",
       "2      1677250.0    3395.0  HK1 (2020-2021)\n",
       "3      1677250.0    1076.0  HK1 (2020-2021)\n",
       "4      1677250.0     901.0  HK1 (2020-2021)\n",
       "...          ...       ...              ...\n",
       "5004         NaN       NaN              NaN\n",
       "5005         NaN       NaN              NaN\n",
       "5006         NaN       NaN              NaN\n",
       "5007   1737233.0    3320.0  HK2 (2022-2023)\n",
       "5008   1737233.0    3591.0  HK1 (2023-2024)\n",
       "\n",
       "[5009 rows x 3 columns]>"
      ]
     },
     "execution_count": 21,
     "metadata": {},
     "output_type": "execute_result"
    }
   ],
   "source": [
    "data.fillna"
   ]
  }
 ],
 "metadata": {
  "kernelspec": {
   "display_name": "Python 3",
   "language": "python",
   "name": "python3"
  },
  "language_info": {
   "codemirror_mode": {
    "name": "ipython",
    "version": 3
   },
   "file_extension": ".py",
   "mimetype": "text/x-python",
   "name": "python",
   "nbconvert_exporter": "python",
   "pygments_lexer": "ipython3",
   "version": "3.11.9"
  }
 },
 "nbformat": 4,
 "nbformat_minor": 2
}
